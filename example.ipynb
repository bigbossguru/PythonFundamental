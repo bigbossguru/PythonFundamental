{
 "cells": [
  {
   "cell_type": "code",
   "execution_count": 1,
   "metadata": {},
   "outputs": [],
   "source": [
    "from Sort.generic_sort import quick_sort\n",
    "import random"
   ]
  },
  {
   "cell_type": "markdown",
   "metadata": {},
   "source": [
    "Generate random list with 1_000_000 elements"
   ]
  },
  {
   "cell_type": "code",
   "execution_count": 2,
   "metadata": {},
   "outputs": [
    {
     "name": "stdout",
     "output_type": "stream",
     "text": [
      "[736612, 118554, 331970, 454149, 728484, 43402, 663451, 191516, 266780, 762939, 624261, 286033, 683973, 901837, 934125, 335619, 745027, 352394, 536653, 452288, 276863, 950538, 434039, 962998, 462812, 689398, 119795, 760497, 125553, 977305, 238316, 287509, 993517, 199891, 985537, 767619, 411946, 451605, 180163, 240090, 227535, 382244, 3031, 329217, 145629, 143716, 698046, 531592, 444462, 96370, 388538, 471683, 582308, 130304, 878746, 185637, 968542, 551537, 245451, 528338, 821809, 734437, 23901, 154501, 885974, 96694, 520242, 131843, 746520, 105843, 422950, 978010, 228134, 707395, 920019, 398730, 820324, 53538, 509456, 228309, 825183, 30911, 138211, 804064, 166978, 25040, 107235, 538357, 986436, 203359, 688096, 527156, 250838, 916726, 639126, 878101, 668169, 350544, 911200, 505657]\n"
     ]
    }
   ],
   "source": [
    "lst = list(range(1_000_000))\n",
    "random.shuffle(lst)\n",
    "\n",
    "print(lst[:100])"
   ]
  },
  {
   "cell_type": "markdown",
   "metadata": {},
   "source": [
    "Quick Sort list with 1000000 elements"
   ]
  },
  {
   "cell_type": "code",
   "execution_count": 3,
   "metadata": {},
   "outputs": [
    {
     "name": "stdout",
     "output_type": "stream",
     "text": [
      "[0, 1, 2, 3, 4, 5, 6, 7, 8, 9, 10, 11, 12, 13, 14, 15, 16, 17, 18, 19, 20, 21, 22, 23, 24, 25, 26, 27, 28, 29, 30, 31, 32, 33, 34, 35, 36, 37, 38, 39, 40, 41, 42, 43, 44, 45, 46, 47, 48, 49, 50, 51, 52, 53, 54, 55, 56, 57, 58, 59, 60, 61, 62, 63, 64, 65, 66, 67, 68, 69, 70, 71, 72, 73, 74, 75, 76, 77, 78, 79, 80, 81, 82, 83, 84, 85, 86, 87, 88, 89, 90, 91, 92, 93, 94, 95, 96, 97, 98, 99]\n"
     ]
    }
   ],
   "source": [
    "print(quick_sort(lst)[:100])"
   ]
  }
 ],
 "metadata": {
  "kernelspec": {
   "display_name": "Python 3.10.6 64-bit",
   "language": "python",
   "name": "python3"
  },
  "language_info": {
   "codemirror_mode": {
    "name": "ipython",
    "version": 3
   },
   "file_extension": ".py",
   "mimetype": "text/x-python",
   "name": "python",
   "nbconvert_exporter": "python",
   "pygments_lexer": "ipython3",
   "version": "3.10.6"
  },
  "orig_nbformat": 4,
  "vscode": {
   "interpreter": {
    "hash": "57480b31141d6fb491a53c548851f4318c7583dffafec596180dbb76a152abe6"
   }
  }
 },
 "nbformat": 4,
 "nbformat_minor": 2
}
